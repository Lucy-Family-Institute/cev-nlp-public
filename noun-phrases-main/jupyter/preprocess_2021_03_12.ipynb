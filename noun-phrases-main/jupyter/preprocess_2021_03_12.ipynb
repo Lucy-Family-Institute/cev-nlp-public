{
 "cells": [
  {
   "cell_type": "code",
   "execution_count": 194,
   "metadata": {},
   "outputs": [],
   "source": [
    "import glob\n",
    "import pdftotext\n",
    "from datetime import datetime\n",
    "import spacy\n",
    "import re\n",
    "import nltk\n",
    "import sys\n",
    "from tqdm import tqdm \n",
    "from time import sleep \n",
    "import textacy\n",
    "sys.path.append(\"/media/gabriel/Data/Projects/cev/noun-phrases/\")\n",
    "from src.util.common import Common\n",
    "\n"
   ]
  },
  {
   "cell_type": "code",
   "execution_count": 13,
   "metadata": {},
   "outputs": [],
   "source": [
    "path = \"/home/gabriel/NAS-Current/download/scraping-master/scraping-master/sentencias_JyP/ext_data/output/sentencias/sentencias/\""
   ]
  },
  {
   "cell_type": "code",
   "execution_count": 17,
   "metadata": {},
   "outputs": [
    {
     "name": "stdout",
     "output_type": "stream",
     "text": [
      "['/home/gabriel/NAS-Current/download/scraping-master/scraping-master/sentencias_JyP/ext_data/output/sentencias/sentencias/Aramis Machado Ortiz_29-jun-11.pdf']\n"
     ]
    }
   ],
   "source": [
    "\n",
    "list_files = glob.glob(path+\"*.pdf\")\n",
    "print(list_files[1:2])\n"
   ]
  },
  {
   "cell_type": "code",
   "execution_count": 67,
   "metadata": {},
   "outputs": [
    {
     "name": "stdout",
     "output_type": "stream",
     "text": [
      "['', 'Jan', 'Feb', 'Mar', 'Apr', 'May', 'Jun', 'Jul', 'Aug', 'Sep', 'Oct', 'Nov', 'Dec']\n"
     ]
    }
   ],
   "source": [
    "import calendar\n",
    "print(list(calendar.month_abbr))"
   ]
  },
  {
   "cell_type": "code",
   "execution_count": 170,
   "metadata": {},
   "outputs": [
    {
     "name": "stderr",
     "output_type": "stream",
     "text": [
      "Read Corpus:  11%|█▏        | 9/79 [00:37<04:51,  4.17s/it]\n"
     ]
    }
   ],
   "source": [
    "# Load \n",
    "count = 0 \n",
    "list_texts_corpus = []\n",
    "for i in tqdm(range(0, len(list_files)), desc =\"Read Corpus\"):  \n",
    "    single_file = list_files[i]\n",
    "    error_flag = False\n",
    "    count += 1\n",
    "    name = single_file.replace(path, '').split(\"_\")\n",
    "    date_time_str = name[1].replace('.pdf', '').replace('dic', 'dec').replace('agt','aug').replace('abr', 'apr').replace('ago', 'aug').replace('ene', 'jan').replace('2014', '14')\n",
    "    try:\n",
    "        date_time_obj = datetime.strptime(date_time_str, '%d-%b-%y')\n",
    "    except:\n",
    "        error_flag = True\n",
    "        print(single_file)\n",
    "        print(\"Error casting data.\")\n",
    " \n",
    "    file_name = name[0].replace(path, '')\n",
    "    file_name = file_name.replace(date_time_str, '')\n",
    "    file_name = file_name.replace('.pdf', '')\n",
    "    \n",
    "    with open(single_file, \"rb\") as f:\n",
    "            pdf = pdftotext.PDF(f)\n",
    "    if count % 10 == 0:\n",
    "        break\n",
    "    sigle_dict = {'path': single_file, 'file_name': file_name, 'date': date_time_obj, 'year': date_time_obj.year, 'month': date_time_obj.month, 'day': date_time_obj.day, 'num_pages': len(pdf), 'pages_raw': list(pdf),  \n",
    "                  'text_raw': \"\\n\\n\".join(pdf), 'sentences': [], 'doc_parser': []}\n",
    "#     print('\\t -> ', count, date_time_str, 'file_name', sigle_dict['file_name'], 'date', sigle_dict['date'], 'num_pages', sigle_dict['num_pages'])\n",
    "    list_texts_corpus.append(sigle_dict)"
   ]
  },
  {
   "cell_type": "code",
   "execution_count": 181,
   "metadata": {},
   "outputs": [
    {
     "name": "stdout",
     "output_type": "stream",
     "text": [
      "->  1 \tfile_name:                              Alexi Mancilla García \tdate: 2016-06-15 00:00:00 \tnum_pages: 449\n",
      "->  2 \tfile_name:                               Aramis Machado Ortiz \tdate: 2011-06-29 00:00:00 \tnum_pages: 38\n",
      "->  3 \tfile_name:       Armando Madriaga Picón y Jesús Noraldo Basto \tdate: 2013-12-06 00:00:00 \tnum_pages: 291\n",
      "->  4 \tfile_name:                     Arnubio Triana Mahecha y otros \tdate: 2014-12-16 00:00:00 \tnum_pages: 970\n",
      "->  5 \tfile_name:                        Atanael Matajudios Buitrago \tdate: 2016-12-07 00:00:00 \tnum_pages: 1282\n",
      "->  6 \tfile_name:               Darío Enrique Vélez Trujillo y otros \tdate: 2014-08-27 00:00:00 \tnum_pages: 1180\n",
      "->  7 \tfile_name:                               Edgar Ignacio Fierro \tdate: 2018-12-18 00:00:00 \tnum_pages: 1758\n",
      "->  8 \tfile_name:       Edilberto de Jesús Cañas Chavarriaga y otros \tdate: 2015-09-24 00:00:00 \tnum_pages: 786\n",
      "->  9 \tfile_name:                            Edison Giraldo Paniagua \tdate: 2012-07-30 00:00:00 \tnum_pages: 156\n"
     ]
    }
   ],
   "source": [
    "count = 0\n",
    "for item in list_texts_corpus:\n",
    "    count += 1\n",
    "    print('-> ', count, '\\tfile_name:', item['file_name'][:50].zfill(50).replace('0', ' '), '\\tdate:', item['date'], '\\tnum_pages:', item['num_pages'])"
   ]
  },
  {
   "cell_type": "code",
   "execution_count": 198,
   "metadata": {},
   "outputs": [],
   "source": [
    "nlp = spacy.load(\"es_core_news_sm\")\n",
    "pattern = r'(<VERB>?<ADV>*<VERB>+)'\n"
   ]
  },
  {
   "cell_type": "code",
   "execution_count": 155,
   "metadata": {},
   "outputs": [
    {
     "name": "stdout",
     "output_type": "stream",
     "text": [
      "                                                       Alexi Mancilla García\n",
      "                                                           Rad. 2006 80848\n",
      "                              POSTULADO\n",
      "      Alexi Mancilla García, conocido con el alias de “Zambrano” nació\n",
      "el 1 de febrero de 1966 en la ciudad de Cartagena de Indias. Hijo de\n",
      "Manuel Mancilla Bolívar (fallecido) y Eva García Julio Peña, con diez\n",
      "hermanos. Estuvo casado con Cecilia Calderón Manrique de la cual se\n",
      "divorció y es padre de dos hijos.\n",
      "      Por orden de trabajo No. 12045 de 2011 se realizó el informe de\n",
      "plena identidad en el que se concluyó que una vez hecho el cotejo de\n",
      "las huellas que aparecen en la copia de la tarjeta decadactilar con la\n",
      "impresa en la tarjeta expedida por la Registraduría Nacional del Estado\n",
      "Civil, corresponde -en ambos casos- a Alexi Mancilla García con\n",
      "cédula de ciudadanía No. 98.530.085 de María la Baja (Bolívar).\n",
      "      Residió en el municipio de María la Baja y estudió hasta cuarto\n",
      "de bachillerato en el colegio Rafael Uribe Uribe. En el año 1984 ingresó\n",
      "al Ejército Nacional como soldado del Batallón de Infantería No. 6 de\n",
      "Cartagena ubicado en Riohacha (Guajira). Posteriormente, se unió a la\n",
      "Escuela de Suboficiales Inocencio Chinga de Tolemaida, institución\n",
      "que en 1991 lo ascendió al rango de Cabo Segundo, y fue trasladado a\n",
      "Cartago (Valle), para desempeñarse como escolta del Mayor General\n",
      "Zúñiga Chaparro en la Tercera División de Infantería de Cali.\n",
      "      Luego, fue reubicado en el Batallón de Ingenieros Agustín Codazzi\n",
      "de Palmira (Valle), de allí lo transfirieron al de Infantería No. 27 con\n",
      "sede en Florencia (Caquetá), posteriormente ingresó a la Escuela de\n",
      "Infantería de Bogotá, donde fue ascendido al rango de Sargento\n",
      "Segundo del Ejército. Así mismo, fue enviado al Batallón de Infantería\n",
      "Magdalena con sede en Pitalito (Huila), para pasar después a la Sección\n",
      "de Inteligencia del Ejército de Neiva, y terminar en al Batallón Cumarí\n",
      "de Leticia (Amazonas), sitio en el que permaneció hasta el año 2000,\n",
      "porque mediante resolución administrativa se había ordenado su retiro\n",
      "                                     2\n",
      "\n",
      "\t 1 chunk Alexi Mancilla García\n",
      "                                                           Rad\n",
      "\t 2 chunk 2006 80848\n",
      "                              POSTULADO\n",
      "      Alexi Mancilla García\n",
      "\t 3 chunk el alias\n",
      "\t 4 chunk “Zambrano”\n",
      "\t 5 chunk la ciudad\n",
      "\t 6 chunk Cartagena de Indias\n",
      "\t 7 chunk Hijo de\n",
      "Manuel Mancilla Bolívar\n",
      "\t 8 chunk Eva García Julio Peña\n",
      "\t 9 chunk hermanos\n",
      "\t 10 chunk Cecilia Calderón Manrique\n",
      "\t 11 chunk la cual\n",
      "\t 12 chunk se\n",
      "\t 13 chunk padre\n",
      "\t 14 chunk hijos\n",
      "\t 15 chunk orden\n",
      "\t 16 chunk trabajo\n",
      "\t 17 chunk 12045\n",
      "\t 18 chunk se\n",
      "\t 19 chunk el informe\n",
      "\t 20 chunk identidad\n"
     ]
    }
   ],
   "source": [
    "text_page = list_texts_corpus[0]['pages_raw'][1]\n",
    "print(text_page)\n",
    "count = 0\n",
    "doc = nlp(text_page)\n",
    "# print(doc.text)\n",
    "# for token in doc:\n",
    "#     print(token.text, token.pos_, token.dep_)\n",
    "for np in doc.noun_chunks:\n",
    "    count += 1 \n",
    "    print('\\t', count, 'chunk', np.text)\n",
    "    if count == 20:\n",
    "        break"
   ]
  },
  {
   "cell_type": "code",
   "execution_count": 156,
   "metadata": {},
   "outputs": [
    {
     "name": "stdout",
     "output_type": "stream",
     "text": [
      " Alexi Mancilla García Rad. 2006 80848 POSTULADO Alexi Mancilla García, conocido con el alias de “Zambrano” nació el 1 de febrero de 1966 en la ciudad de Cartagena de Indias. Hijo de Manuel Mancilla Bolívar (fallecido) y Eva García Julio Peña, con diez hermanos. Estuvo casado con Cecilia Calderón Manrique de la cual se divorció y es padre de dos hijos. Por orden de trabajo No. 12045 de 2011 se realizó el informe de plena identidad en el que se concluyó que una vez hecho el cotejo de las huellas que aparecen en la copia de la tarjeta decadactilar con la impresa en la tarjeta expedida por la Registraduría Nacional del Estado Civil, corresponde -en ambos casos- a Alexi Mancilla García con cédula de ciudadanía No. 98.530.085 de María la Baja (Bolívar). Residió en el municipio de María la Baja y estudió hasta cuarto de bachillerato en el colegio Rafael Uribe Uribe. En el año 1984 ingresó al Ejército Nacional como soldado del Batallón de Infantería No. 6 de Cartagena ubicado en Riohacha (Guajira). Posteriormente, se unió a la Escuela de Suboficiales Inocencio Chinga de Tolemaida, institución que en 1991 lo ascendió al rango de Cabo Segundo, y fue trasladado a Cartago (Valle), para desempeñarse como escolta del Mayor General Zúñiga Chaparro en la Tercera División de Infantería de Cali. Luego, fue reubicado en el Batallón de Ingenieros Agustín Codazzi de Palmira (Valle), de allí lo transfirieron al de Infantería No. 27 con sede en Florencia (Caquetá), posteriormente ingresó a la Escuela de Infantería de Bogotá, donde fue ascendido al rango de Sargento Segundo del Ejército. Así mismo, fue enviado al Batallón de Infantería Magdalena con sede en Pitalito (Huila), para pasar después a la Sección de Inteligencia del Ejército de Neiva, y terminar en al Batallón Cumarí de Leticia (Amazonas), sitio en el que permaneció hasta el año 2000, porque mediante resolución administrativa se había ordenado su retiro 2 \n",
      "\t 1 chunk Alexi Mancilla García Rad\n",
      "\t 2 chunk 2006\n",
      "\t 3 chunk POSTULADO\n",
      "\t 4 chunk Alexi Mancilla García\n",
      "\t 5 chunk el alias\n",
      "\t 6 chunk “Zambrano”\n",
      "\t 7 chunk la ciudad\n",
      "\t 8 chunk Cartagena de Indias\n",
      "\t 9 chunk Hijo\n",
      "\t 10 chunk Manuel Mancilla Bolívar\n",
      "\t 11 chunk Eva García Julio Peña\n",
      "\t 12 chunk hermanos\n",
      "\t 13 chunk Cecilia Calderón Manrique\n",
      "\t 14 chunk la cual\n",
      "\t 15 chunk se\n",
      "\t 16 chunk padre\n",
      "\t 17 chunk hijos\n",
      "\t 18 chunk orden\n",
      "\t 19 chunk trabajo\n",
      "\t 20 chunk 12045\n"
     ]
    }
   ],
   "source": [
    "text_page = re.sub('\\s+',' ', list_texts_corpus[0]['pages_raw'][1])\n",
    "print(text_page)\n",
    "count = 0\n",
    "doc = nlp(text_page)\n",
    "# print(doc.text)\n",
    "# for token in doc:\n",
    "#     print(token.text, token.pos_, token.dep_)\n",
    "for np in doc.noun_chunks:\n",
    "    count += 1 \n",
    "    print('\\t', count, 'chunk', np.text)\n",
    "    if count == 20:\n",
    "        break\n"
   ]
  },
  {
   "cell_type": "code",
   "execution_count": 136,
   "metadata": {},
   "outputs": [
    {
     "name": "stdout",
     "output_type": "stream",
     "text": [
      "part 1\n",
      "# sents: 5777 sample:  ['007 de 2016.', 'Bogotá, D.C., 15 de junio de dos mil dieciséis (2016).', 'DECISIÓN\\n      Agotada la audiencia de control formal y material de los cargos,\\nsolicitada por el Fiscal 11 de la Unidad de Justicia Transicional y\\nfinalizado el incidente de reparación integral, procede la sala a proferir\\nsentencia parcial, bajo los lineamientos del artículo 24 de la Ley 975\\nde 2005, contra el postulado por el Gobierno Nacional ALEXI\\nMANCILLA GARCÍA, a.']\n",
      "======================================================================================================================================================\n",
      "part 2\n",
      "# sents: 5777 sample:  ['007 de 2016.', 'Bogotá, D.C., 15 de junio de dos mil dieciséis (2016).', 'DECISIÓN Agotada la audiencia de control formal y material de los cargos, solicitada por el Fiscal 11 de la Unidad de Justicia Transicional y finalizado el incidente de reparación integral, procede la sala a proferir sentencia parcial, bajo los lineamientos del artículo 24 de la Ley 975 de 2005, contra el postulado por el Gobierno Nacional ALEXI MANCILLA GARCÍA, a.']\n"
     ]
    }
   ],
   "source": [
    "\n",
    "print('part 1')\n",
    "text_page1 = list_texts_corpus[0]['text_raw']\n",
    "# print(text_page1)\n",
    "sents = nltk.sent_tokenize(text_page1)\n",
    "print('# sents:',len(sents), \"sample: \", sents[1:4])\n",
    "print('='*150)\n",
    "print('part 2')\n",
    "text_page2 = list_texts_corpus[0]['text_raw']\n",
    "text_page2 = re.sub('\\n+',' ', text_page2)\n",
    "text_page2 = re.sub('\\s+',' ', text_page2)\n",
    "# print(text_page2)\n",
    "sents2 = nltk.sent_tokenize(text_page2)\n",
    "print('# sents:',len(sents), \"sample: \", sents2[1:4])\n"
   ]
  },
  {
   "cell_type": "code",
   "execution_count": 199,
   "metadata": {},
   "outputs": [
    {
     "name": "stdout",
     "output_type": "stream",
     "text": [
      "sent #  1 ------------------------------------------------------------------------------------------------------------------------------------------------------\n",
      "\t without process: Posteriormente, se unió a la Escuela de Suboficiales Inocencio Chinga de Tolemaida, institución que en 1991 lo ascendió al rango de Cabo Segundo, y fue trasladado a Cartago (Valle), para desempeñarse como escolta del Mayor General Zúñiga Chaparro en la Tercera División de Infantería de Cali.\n",
      "\t\t wp false: 146 chunk: se\n",
      "\t\t wp false: 147 chunk: la Escuela de Suboficiales Inocencio Chinga de Tolemaida\n",
      "\t\t wp false: 148 chunk: institución\n",
      "\t\t wp false: 149 chunk: 1991\n",
      "\t\t wp false: 150 chunk: lo\n",
      "\t\t wp false: 151 chunk: rango\n",
      "\t\t wp false: 152 chunk: Cabo Segundo\n",
      "\t\t wp false: 153 chunk: Cartago\n",
      "\t\t wp false: 154 chunk: Valle\n",
      "\t\t wp false: 155 chunk: escolta\n",
      "\t\t wp false: 156 chunk: Mayor General Zúñiga Chaparro\n",
      "\t\t wp false: 157 chunk: la Tercera División de Infantería de Cali\n",
      "\t with process: Posteriormente se unió a la Escuela de Suboficiales Inocencio Chinga de Tolemaida institución que en 1991 lo ascendió al rango de Cabo Segundo y fue trasladado a Cartago Valle para desempeñarse como escolta del Mayor General Zúñiga Chaparro en la Tercera División de Infantería de Cali\n",
      "\t\t wp true: 158 chunk: se\n",
      "\t\t wp true: 159 chunk: la Escuela de Suboficiales Inocencio Chinga de Tolemaida\n",
      "\t\t wp true: 160 chunk: institución\n",
      "\t\t wp true: 161 chunk: 1991\n",
      "\t\t wp true: 162 chunk: lo\n",
      "\t\t wp true: 163 chunk: rango\n",
      "\t\t wp true: 164 chunk: Cabo Segundo\n",
      "\t\t wp true: 165 chunk: Cartago Valle\n",
      "\t\t wp true: 166 chunk: escolta\n",
      "\t\t wp true: 167 chunk: Mayor General Zúñiga Chaparro\n",
      "\t\t wp true: 168 chunk: la Tercera División de Infantería de Cali\n",
      "[{'nc': se, 'np': [se, se]}, {'nc': la Escuela de Suboficiales Inocencio Chinga de Tolemaida, 'np': [la Escuela de Suboficiales Inocencio Chinga de Tolemaida, a la Escuela de Suboficiales Inocencio Chinga de Tolemaida institución]}, {'nc': institución, 'np': [institución, institución]}, {'nc': 1991, 'np': [1991, en 1991]}, {'nc': lo, 'np': [lo, lo]}, {'nc': rango, 'np': [rango, al rango de Cabo Segundo]}, {'nc': Cabo Segundo, 'np': [Cabo Segundo, de Cabo Segundo]}, {'nc': Cartago Valle, 'np': [Cartago Valle, a Cartago Valle]}, {'nc': escolta, 'np': [escolta, como escolta del Mayor General Zúñiga Chaparro]}, {'nc': Mayor General Zúñiga Chaparro, 'np': [Mayor General Zúñiga Chaparro, del Mayor General Zúñiga Chaparro]}, {'nc': la Tercera División de Infantería de Cali, 'np': [la Tercera División de Infantería de Cali, en la Tercera División de Infantería de Cali]}]\n",
      "verb_phrases unió\n",
      "verb_phrases ascendió\n",
      "verb_phrases trasladado\n",
      "verb_phrases desempeñarse\n",
      "sent #  2 ------------------------------------------------------------------------------------------------------------------------------------------------------\n",
      "\t without process: Luego, fue reubicado en el Batallón de Ingenieros Agustín Codazzi de Palmira (Valle), de allí lo transfirieron al de Infantería No.\n",
      "\t\t wp false: 169 chunk: el Batallón de Ingenieros Agustín Codazzi de Palmira\n",
      "\t\t wp false: 170 chunk: Valle\n",
      "\t\t wp false: 171 chunk: lo\n",
      "\t\t wp false: 172 chunk: Infantería No\n",
      "\t with process: Luego fue reubicado en el Batallón de Ingenieros Agustín Codazzi de Palmira Valle de allí lo transfirieron al de Infantería No\n",
      "\t\t wp true: 173 chunk: el Batallón de Ingenieros Agustín Codazzi de Palmira Valle\n",
      "\t\t wp true: 174 chunk: lo\n",
      "\t\t wp true: 175 chunk: Infantería No\n",
      "[{'nc': el Batallón de Ingenieros Agustín Codazzi de Palmira Valle, 'np': [el Batallón de Ingenieros Agustín Codazzi de Palmira Valle, en el Batallón de Ingenieros Agustín Codazzi de Palmira Valle]}, {'nc': lo, 'np': [lo, lo]}, {'nc': Infantería No, 'np': [Infantería No, al de Infantería No]}]\n",
      "verb_phrases reubicado\n",
      "verb_phrases transfirieron\n"
     ]
    },
    {
     "name": "stderr",
     "output_type": "stream",
     "text": [
      "/home/gabriel/anaconda3/lib/python3.8/site-packages/textacy/extract.py:334: DeprecationWarning: `pos_regex_matches()` has been deprecated! for similar but more powerful and performant functionality, use `textacy.extract.matches()` instead.\n",
      "  utils.deprecated(\n",
      "/home/gabriel/anaconda3/lib/python3.8/site-packages/textacy/extract.py:334: DeprecationWarning: `pos_regex_matches()` has been deprecated! for similar but more powerful and performant functionality, use `textacy.extract.matches()` instead.\n",
      "  utils.deprecated(\n"
     ]
    }
   ],
   "source": [
    "count_sent = 0\n",
    "for item in sents2[15:17]:\n",
    "    count_sent += 1\n",
    "    print('sent # ', count_sent, '-'*150)\n",
    "    print('\\t without process:', item)\n",
    "    doc = nlp(item)\n",
    "    for np in doc.noun_chunks:\n",
    "        count += 1 \n",
    "        print('\\t\\t wp false:', count, 'chunk:', np.text)\n",
    "    #item = re.sub('[\\W_]+', ' ', item, flags=re.UNICODE) # [^A-Za-z0-9_] [\\W_] [^-/().&' \\w]|_\n",
    "    item = re.sub(r\"[^- \\w]|_\", \"\", item)    \n",
    "    print('\\t with process:', item)\n",
    "    doc = nlp(item)\n",
    "    np_state = True\n",
    "    for np in doc.noun_chunks:\n",
    "        np_state = False\n",
    "        count += 1 \n",
    "        print('\\t\\t wp true:', count, 'chunk:', np.text)\n",
    "    if np_state:\n",
    "        print('\\t\\t error: This sentence has no noun phrase.')\n",
    "    noun_pharses=set()\n",
    "    noun_pharses2=[]    \n",
    "    for nc in doc.noun_chunks:\n",
    "        noun_dict = {'nc': nc, 'np': []}\n",
    "        for np in [nc, doc[nc.root.left_edge.i:nc.root.right_edge.i+1]]:\n",
    "            noun_dict['np'].append(np)\n",
    "        # noun_pharses.add(np)\n",
    "        noun_pharses2.append(noun_dict)\n",
    "    print(noun_pharses2)\n",
    "    nlp_verb_phrases = textacy.make_spacy_doc(item, lang='es_core_news_sm')\n",
    "    verb_phrases = textacy.extract.pos_regex_matches(nlp_verb_phrases, pattern)\n",
    "    # Print all Verb Phrase\n",
    "    for chunk in verb_phrases:\n",
    "        print('verb_phrases', chunk.text)\n",
    "\n",
    "# https://realpython.com/natural-language-processing-spacy-python/\n",
    "# \n",
    "# >>> about_talk_text = ('The talk will introduce reader about Use'\n",
    "# ...                    ' cases of Natural Language Processing in'\n",
    "# ...                    ' Fintech')\n",
    "# >>> pattern = r'(<VERB>?<ADV>*<VERB>+)'\n",
    "# >>> about_talk_doc = textacy.make_spacy_doc(about_talk_text,\n",
    "# ...                                         lang='en_core_web_sm')\n",
    "# >>> verb_phrases = textacy.extract.pos_regex_matches(about_talk_doc, pattern)\n",
    "# >>> # Print all Verb Phrase\n",
    "# >>> for chunk in verb_phrases:\n",
    "# ...     print(chunk.text)"
   ]
  },
  {
   "cell_type": "code",
   "execution_count": 190,
   "metadata": {},
   "outputs": [
    {
     "name": "stderr",
     "output_type": "stream",
     "text": [
      "Structure Corpus: 100%|██████████| 9/9 [15:35<00:00, 103.93s/it]\n"
     ]
    }
   ],
   "source": [
    "for i in tqdm(range(0, len(list_texts_corpus)), desc =\"Structure Corpus\"):  \n",
    "    single_doc = list_texts_corpus[i]   \n",
    "    count_page = 0\n",
    "    count_sent = 0\n",
    "    count_sent_local = 0\n",
    "    for page_raw in single_doc['pages_raw']:\n",
    "        count_page += 1\n",
    "        count_sent_local = 0\n",
    "        text_raw = page_raw\n",
    "        text_raw = re.sub('\\n+',' ', text_raw)\n",
    "        text_raw = re.sub('\\s+',' ', text_raw)\n",
    "        sents_raw = nltk.sent_tokenize(text_raw)\n",
    "        for item in sents_raw:\n",
    "            dict_sent = {'page': count_page, 'local_sent': count_sent_local, 'global_sent': count_sent, 'text_raw': item, 'text_clear': '', 'chunks': []}\n",
    "            count_sent += 1\n",
    "            count_sent_local += 1\n",
    "            item = re.sub(r\"[^- \\w]|_\", \"\", item)\n",
    "            dict_sent['text_clear'] = item            \n",
    "#             if count_sent % 100 == 0:\n",
    "#                 print('sent # ', count_sent, '-'*150)\n",
    "#                 print('\\t with process:', item)\n",
    "            doc = nlp(item)\n",
    "            np_state = True\n",
    "            count_chunk = 0\n",
    "            for np in doc.noun_chunks:\n",
    "                np_state = False\n",
    "                count_chunk += 1 \n",
    "                dict_sent['chunks'].append({'num': count_chunk, 'text': np.text})\n",
    "#                 if count_sent % 100 == 0:\n",
    "#                     print('\\t\\t wp true:', count, 'chunk:', np.text)\n",
    "#             if np_state:\n",
    "#                 if count_sent % 100 == 0:\n",
    "#                     print('\\t\\t error: This sentence has no noun phrase.')                    \n",
    "            list_texts_corpus[i]['sentences'].append(dict_sent)\n"
   ]
  },
  {
   "cell_type": "code",
   "execution_count": 196,
   "metadata": {},
   "outputs": [
    {
     "name": "stdout",
     "output_type": "stream",
     "text": [
      " REPÚBLICA DE COLOMBIA RAMA JUDICIAL TRIBUNAL SUPERIOR DEL DISTRITO JUDICIAL DE BOGOTÁ SALA DE JUSTICIA Y PAZ Magistrado Ponente RICARDO RENDÓN PUERTA Acta aprobatoria No\n"
     ]
    }
   ],
   "source": [
    "print(list_texts_corpus[0]['sentences'][0])"
   ]
  },
  {
   "cell_type": "code",
   "execution_count": null,
   "metadata": {},
   "outputs": [],
   "source": [
    "noun_pharses=set()    \n",
    "for nc in doc.noun_chunks:\n",
    "    for np in [nc, doc[nc.root.left_edge.i:nc.root.right_edge.i+1]]:\n",
    "       noun_pharses.add(np)"
   ]
  },
  {
   "cell_type": "code",
   "execution_count": 158,
   "metadata": {},
   "outputs": [
    {
     "name": "stderr",
     "output_type": "stream",
     "text": [
      "Text You Want: 100%|██████████| 100/100 [00:10<00:00,  9.79it/s]\n"
     ]
    }
   ],
   "source": [
    "from collections import Counter\n",
    "words = [token.text for token in complete_doc\n",
    "          if not token.is_stop and not token.is_punct]\n",
    "word_freq = Counter(words)"
   ]
  },
  {
   "cell_type": "code",
   "execution_count": null,
   "metadata": {},
   "outputs": [],
   "source": [
    "list_texts_corpus[0]['text_raw']\n",
    "fd = nltk.ConditionalFreqDist(\n",
    "...           (genre, word)\n",
    "...           for genre in brown.categories()\n",
    "...           for word in brown.words(categories=genre))\n",
    ">>> genres = ['news', 'religion', 'hobbies', 'science_fiction', 'romance', 'humor']\n",
    ">>> modals = ['can', 'could', 'may', 'might', 'must', 'will']\n",
    ">>> cfd.tabulate(conditions=genres, samples=modals)\n",
    "\n",
    "cfd = nltk.ConditionalFreqDist(\n",
    "...           (fileid, name[-1])\n",
    "...           for fileid in names.fileids()\n",
    "...           for name in names.words(fileid))\n",
    "cfd.plot()\n",
    "\n",
    "cfd = nltk.ConditionalFreqDist(\n",
    "...           (target, fileid[:4])\n",
    "...           for fileid in inaugural.fileids()\n",
    "...           for w in inaugural.words(fileid)\n",
    "...           for target in ['america', 'citizen']\n",
    "...           if w.lower().startswith(target)) [1]\n",
    ">>> cfd.plot()"
   ]
  }
 ],
 "metadata": {
  "kernelspec": {
   "display_name": "Python 3",
   "language": "python",
   "name": "python3"
  },
  "language_info": {
   "codemirror_mode": {
    "name": "ipython",
    "version": 3
   },
   "file_extension": ".py",
   "mimetype": "text/x-python",
   "name": "python",
   "nbconvert_exporter": "python",
   "pygments_lexer": "ipython3",
   "version": "3.8.3"
  }
 },
 "nbformat": 4,
 "nbformat_minor": 4
}
