{
 "cells": [
  {
   "cell_type": "code",
   "execution_count": 14,
   "id": "714f2f6d",
   "metadata": {},
   "outputs": [
    {
     "name": "stdout",
     "output_type": "stream",
     "text": [
      "34\n",
      "\n",
      "\n"
     ]
    }
   ],
   "source": [
    "import pdftotext\n",
    "\n",
    "file = \"/media/gabriel/Data/Projects/cev/noun-phrases/data/input/tierras/050453121002-201500909-01 Turbo 09 julio 2018.pdf\"\n",
    "# Load your PDF\n",
    "with open(file, \"rb\") as f:\n",
    "    pdf = pdftotext.PDF(f)\n",
    "\n",
    "# How many pages?\n",
    "print(len(pdf))\n",
    "\n",
    "# Read some individual pages\n",
    "print(pdf[0])\n",
    "print(pdf[1])"
   ]
  },
  {
   "cell_type": "code",
   "execution_count": 13,
   "id": "a6813c3a",
   "metadata": {},
   "outputs": [
    {
     "name": "stdout",
     "output_type": "stream",
     "text": [
      "34\n",
      "None\n"
     ]
    }
   ],
   "source": [
    "import pdfplumber\n",
    "\n",
    "with pdfplumber.open(file) as pdf:\n",
    "    print(len(pdf.pages))\n",
    "    page = pdf.pages[2]\n",
    "    text = page.extract_text()\n",
    "    print(text) \n"
   ]
  },
  {
   "cell_type": "code",
   "execution_count": null,
   "id": "93099188",
   "metadata": {},
   "outputs": [],
   "source": [
    "#https://blog.softhints.com/python-extract-text-from-image-or-pdf/\n"
   ]
  }
 ],
 "metadata": {
  "kernelspec": {
   "display_name": "Python 3",
   "language": "python",
   "name": "python3"
  },
  "language_info": {
   "codemirror_mode": {
    "name": "ipython",
    "version": 3
   },
   "file_extension": ".py",
   "mimetype": "text/x-python",
   "name": "python",
   "nbconvert_exporter": "python",
   "pygments_lexer": "ipython3",
   "version": "3.8.8"
  }
 },
 "nbformat": 4,
 "nbformat_minor": 5
}
